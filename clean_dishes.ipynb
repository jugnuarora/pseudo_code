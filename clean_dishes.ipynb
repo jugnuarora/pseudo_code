{
 "cells": [
  {
   "cell_type": "markdown",
   "metadata": {},
   "source": []
  },
  {
   "cell_type": "markdown",
   "metadata": {},
   "source": [
    "def clear_leftover:\n",
    "    1. Bring garbage bag.\n",
    "\n",
    "    While leftover on dishes(plates, bowls etc):\n",
    "        2. Clean up the leftovers.\n",
    "    \n",
    "def plate_cutlery_collection:\n",
    "    3. Collect big plates.\n",
    "    4. Stack small plates over big plates.\n",
    "    5. Collect all the cutlery.\n",
    "    Call dishwasher_arrangement function\n",
    "\n",
    "def Glass_collection:\n",
    "    Collect all the glasses.\n",
    "    Call dishwasher arrangement function\n",
    "\n",
    "def bowl_collection:\n",
    "    10. Collect big bowls and then small bowls.\n",
    "    call dishwasher_arrangement function for following steps:\n",
    "\n",
    "def dishwasher_arrangement:\n",
    "    6. Go to the dishwasher.\n",
    "\n",
    "    if cutlery:\n",
    "        7. Arrange the cutlery in the dishwasher.\n",
    "    elif plates:\n",
    "        8. Open the plates lowermost section in dishwasher and put the plates one by one.\n",
    "    elif bowls:\n",
    "        12. Open the Bowls section in the dishwasher.\n",
    "        13. Arrange all the bowls in the dishwasher.\n",
    "    elif glasses:\n",
    "        Arrange all the glasses in the dishwasher.\n",
    "\n",
    "    return to_table\n",
    "        9. Go back to the table.\n",
    "\n",
    "def dishwasher_start:\n",
    "    14. Put the dishwasher soap tablet.\n",
    "    15. check for rinse and salt in the dishwasher.\n",
    "    if missing:\n",
    "        16. fill the rinse and salt\n",
    "    else:\n",
    "        17. Start the dishwasher.\n",
    "\n",
    "def robot_task():\n",
    "    if clean_dishes:\n",
    "        give table location\n",
    "        clear_leftover\n",
    "        plate_cutlery_collection\n",
    "        bowl_collection\n",
    "        dishwasher_start\n",
    "\n",
    "    if washing_clothes: "
   ]
  }
 ],
 "metadata": {
  "kernelspec": {
   "display_name": "Python 3.9.13 ('.venv': venv)",
   "language": "python",
   "name": "python3"
  },
  "language_info": {
   "name": "python",
   "version": "3.9.13"
  },
  "orig_nbformat": 4,
  "vscode": {
   "interpreter": {
    "hash": "9fc08c3f9ba9681575b31fc3eb296b5000c6233667db5899d60a9f62e0cf05fd"
   }
  }
 },
 "nbformat": 4,
 "nbformat_minor": 2
}
